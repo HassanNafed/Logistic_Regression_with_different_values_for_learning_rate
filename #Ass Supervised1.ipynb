{
 "cells": [
  {
   "cell_type": "markdown",
   "id": "bb627e0d",
   "metadata": {},
   "source": [
    "# #ass supervised1"
   ]
  },
  {
   "cell_type": "code",
   "execution_count": 12,
   "id": "a7aae368",
   "metadata": {},
   "outputs": [],
   "source": [
    "import numpy as np\n",
    "import struct"
   ]
  },
  {
   "cell_type": "code",
   "execution_count": 13,
   "id": "5b9dce63",
   "metadata": {},
   "outputs": [],
   "source": [
    "\n",
    "def load_mnist_images(filename):\n",
    "    with open(filename, 'rb') as f:\n",
    "        magic, num_images, rows, cols = struct.unpack('>IIII', f.read(16))\n",
    "        images = np.fromfile(f, dtype=np.uint8).reshape(num_images, rows * cols)\n",
    "        images = images.astype(np.float64) / 255.0  # normalize to [0, 1]\n",
    "        return images\n"
   ]
  },
  {
   "cell_type": "code",
   "execution_count": 14,
   "id": "2256adeb",
   "metadata": {},
   "outputs": [],
   "source": [
    "def load_mnist_labels(filename):\n",
    "    with open(filename, 'rb') as f:\n",
    "        magic, num_labels = struct.unpack('>II', f.read(8))\n",
    "        labels = np.fromfile(f, dtype=np.uint8)\n",
    "        return labels\n"
   ]
  },
  {
   "cell_type": "markdown",
   "id": "46701b0f",
   "metadata": {},
   "source": [
    "# Load the MNIST dataset"
   ]
  },
  {
   "cell_type": "code",
   "execution_count": 15,
   "id": "cb030013",
   "metadata": {},
   "outputs": [],
   "source": [
    "\n",
    "X = load_mnist_images('train-images.idx3-ubyte')\n",
    "y = load_mnist_labels('train-labels.idx1-ubyte')\n"
   ]
  },
  {
   "cell_type": "markdown",
   "id": "c6d4520f",
   "metadata": {},
   "source": [
    "# Subset the dataset to use only class 0 and class 1"
   ]
  },
  {
   "cell_type": "code",
   "execution_count": 16,
   "id": "b3ccde26",
   "metadata": {},
   "outputs": [],
   "source": [
    "\n",
    "idx = np.where((y == 0) | (y == 1))[0]\n",
    "X = X[idx]\n",
    "y = y[idx]"
   ]
  },
  {
   "cell_type": "markdown",
   "id": "7f1daefb",
   "metadata": {},
   "source": [
    "# Standardize the dataset"
   ]
  },
  {
   "cell_type": "code",
   "execution_count": 17,
   "id": "8d68e848",
   "metadata": {},
   "outputs": [],
   "source": [
    "\n",
    "X_mean = np.mean(X, axis=0)\n",
    "X_std = np.std(X, axis=0)\n",
    "X_std[X_std == 0] = 0.00000000000000001  # avoid division by zero\n",
    "X = (X - X_mean) / X_std\n"
   ]
  },
  {
   "cell_type": "markdown",
   "id": "1e39b369",
   "metadata": {},
   "source": [
    "# Add a column of ones to X for the bias term"
   ]
  },
  {
   "cell_type": "code",
   "execution_count": 18,
   "id": "ab8bcecb",
   "metadata": {},
   "outputs": [],
   "source": [
    "\n",
    "X = np.hstack((np.ones((len(X), 1)), X))"
   ]
  },
  {
   "cell_type": "markdown",
   "id": "11669d52",
   "metadata": {},
   "source": [
    "# Set up k-fold cross-validation"
   ]
  },
  {
   "cell_type": "code",
   "execution_count": 19,
   "id": "53986adc",
   "metadata": {},
   "outputs": [],
   "source": [
    "\n",
    "k = 10\n",
    "fold_size = len(X) // k\n",
    "fold_indices = np.arange(len(X))\n",
    "np.random.shuffle(fold_indices)"
   ]
  },
  {
   "cell_type": "markdown",
   "id": "bc60bc3d",
   "metadata": {},
   "source": [
    "# Set up hyperparameters"
   ]
  },
  {
   "cell_type": "code",
   "execution_count": 20,
   "id": "3de0ab58",
   "metadata": {},
   "outputs": [],
   "source": [
    "\n",
    "learning_rates = [0.01, 0.1, 0.5, 1.0]\n",
    "num_iterations = 1000"
   ]
  },
  {
   "cell_type": "markdown",
   "id": "dd0368aa",
   "metadata": {},
   "source": [
    "# Perform k-fold cross-validation"
   ]
  },
  {
   "cell_type": "code",
   "execution_count": 21,
   "id": "8a7c5df2",
   "metadata": {},
   "outputs": [
    {
     "name": "stdout",
     "output_type": "stream",
     "text": [
      "Learning rate: 0.01\n",
      "Average accuracy: 0.998341232227488\n",
      "Learning rate: 0.1\n",
      "Average accuracy: 0.9988941548183254\n",
      "Learning rate: 0.5\n",
      "Average accuracy: 0.9988151658767771\n",
      "Learning rate: 1.0\n",
      "Average accuracy: 0.998736176935229\n"
     ]
    }
   ],
   "source": [
    "\n",
    "for learning_rate in learning_rates:\n",
    "    accs = []\n",
    "    for fold in range(k):\n",
    "   \n",
    "        start = fold * fold_size\n",
    "        end = start + fold_size\n",
    "        X_val_fold = X[fold_indices[start:end], :]\n",
    "        y_val_fold = y[fold_indices[start:end]]\n",
    "        X_train_fold = np.delete(X, fold_indices[start:end], axis=0)\n",
    "        y_train_fold = np.delete(y, fold_indices[start:end])\n",
    "\n",
    "        \n",
    "        w = np.zeros(X_train_fold.shape[1])\n",
    "\n",
    "     \n",
    "        for i in range(num_iterations):\n",
    "           \n",
    "            y_pred = 1 / (1 + np.exp(-np.dot(X_train_fold, w)))\n",
    "\n",
    "           \n",
    "            grad = np.dot(X_train_fold.T, (y_pred - y_train_fold)) / len(y_train_fold)\n",
    "\n",
    "  \n",
    "            w -=learning_rate * grad\n",
    "\n",
    "       \n",
    "        y_pred_val = np.round(1 / (1 + np.exp(-np.dot(X_val_fold, w))))\n",
    "        acc = np.mean(y_pred_val == y_val_fold)\n",
    "        accs.append(acc)\n",
    "\n",
    "    print('Learning rate:', learning_rate)\n",
    "    print('Average accuracy:', np.mean(accs))\n"
   ]
  },
  {
   "cell_type": "code",
   "execution_count": null,
   "id": "c352d170",
   "metadata": {},
   "outputs": [],
   "source": []
  }
 ],
 "metadata": {
  "kernelspec": {
   "display_name": "Python 3 (ipykernel)",
   "language": "python",
   "name": "python3"
  },
  "language_info": {
   "codemirror_mode": {
    "name": "ipython",
    "version": 3
   },
   "file_extension": ".py",
   "mimetype": "text/x-python",
   "name": "python",
   "nbconvert_exporter": "python",
   "pygments_lexer": "ipython3",
   "version": "3.9.13"
  }
 },
 "nbformat": 4,
 "nbformat_minor": 5
}
